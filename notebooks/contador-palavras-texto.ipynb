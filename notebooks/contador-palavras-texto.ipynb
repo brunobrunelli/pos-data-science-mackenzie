{
 "cells": [
  {
   "cell_type": "markdown",
   "metadata": {},
   "source": [
    "**Contador de Palavras de um Texto**\n"
   ]
  },
  {
   "cell_type": "markdown",
   "metadata": {},
   "source": [
    "* **origem**: https://olhardigital.com.br/2022/02/20/ciencia-e-espaco/spacex-lancara-49-satelites-starlink-nesta-segunda-feira-21/\n",
    "* **assunto**: SpaceX Lançará 49 satélites Starlink nesta segunda-feira(21)"
   ]
  },
  {
   "cell_type": "code",
   "execution_count": 3,
   "metadata": {},
   "outputs": [],
   "source": [
    "import string\n",
    "import pandas as pd\n",
    "import matplotlib.pyplot as plt\n",
    "\n",
    "dic_txt = {}"
   ]
  },
  {
   "cell_type": "code",
   "execution_count": 4,
   "metadata": {},
   "outputs": [],
   "source": [
    "txt = '''\n",
    "Os 3 erros mais comuns de Cientistas de Dados — E que não tem a ver com dados\n",
    "\n",
    "As dicas mais essenciais para ser efetivo no seu trabalho\n",
    "Eu costumo ajudar muito a comunidade de DS do Data Hackers com vários tópicos, vamos dizer… ‘não matemáticos’, em muito porque minha formação é de administração. E nesse período eu notei alguns padrões.\n",
    "Um deles é que é muito comum entre profissionais de dados focarem muito do lado dos dados, da estatística e do ML, e acabem negligenciando uma porção de recursos ou melhorias fáceis.\n",
    "E eu queria fazer esse post para levar estes pontos porque eles são muito fáceis de serem ignorados. (e também para eu poder apontar pra ele e não ter que repetir o mesmo conselho pela quinqualhesíma vez XD)\n",
    "\n",
    "1) Não explorar as IDEs e extensões disponíveis\n",
    "\n",
    "Quando eu comecei na programação na POLI, eu codava no ambiente embutido chamado IDLE… que não era muito mais do que simplesmente um bloco de notas e um terminal, o que fazia sentido pra matéria, porque eu tinha que reproduzir exatamente o meu código a lápis depois na prova… (Barf). Eu cheguei a tentar a montar um RPG de terminal nisso, com batalha e tudo mais… e pra resumir… DEU MUITO ERRADO.\n",
    "Vou ser direto: Quantas vezes você estava no notebook e o código não compilou por causa de um typo? Ou o seu código agiu errado por causa de má configuração da variável? E quanto tempo você gastou tentando debugar esses probleminhas?\n",
    "Não seria legal ter uma interface que te ajudasse a evitar esses problemas bobos, ou mesmo acelerar o ritmo em que você programa?\n",
    "Apesar de tomarem o papel de contrarregra. IDEs são um dos aspectos mais fundamentais do trabalho de um programador, sempre te dando apoio atrás com correções de indentação, auto completamentos*, sugestões de refatoramento e muito mais.\n",
    "Elas fundamentalmente não te ‘habilitam’ em resolver problemas novos, coisa que os cursos e mercado tanto focam, mas te liberam de microproblemas que queimam seu tempo, permitindo ser eficiente nos estudos.\n",
    "Eu particularmente recomendo começar a pesquisar IDEs tão quanto você aprender o básico da linguagem de sua escolha. Sim, é tão essencial assim, porque é o que impede de seu trabalho ser enfadonho.\n",
    "Como exercício e checklist, verifique que você sabe e tem ao seu alcançe:\n",
    "Linter pra não ter que ficar corrigindo erros de indentação e compilação.\n",
    "Autocomplete pra não ter que ficar decorando tanto a grafia das funções, como também pra trazer a documentação enquanto escreve\n",
    "Esquema de cores pra não cansar os olhos (tem um porque de temas escuros serem populares…) e fácil de identificar entre as cores\n",
    "Uma fonte fácil de ler, em especial mono espaçada e que não confunda O, 0, I, l e 1. Algumas como a FiraCode tem elementos adicionais para programadores\n",
    "Régua/contador de linhas: Pra achar mais rápido a linha que deu bug\n",
    "Explorador de variáveis: Pra saber o estado do sistema quando bugar e também poupar printar as variáveis pra ver se funcionou\n",
    "Debugger ou execução com paradas: Para ver como o seu programa está se comportando sem ter que desmontá-lo com comentários\n",
    "HOTKEYS! Como você pode ser o profissional mais sexy do sexy do séc. XXI se você não é hot? Ok, Piadas a parte, os atalhos de teclado mais comuns vão te salvar um 1 segundo mais de 500 vezes por dia. É trabalhosos decorá-las, mas acredite, o benefício acumula muito rápido.\n",
    "Terminal embutido: para testar comandos sem ter que rodar o script inteiro, muito útil enquanto explora bibliotecas novas\n",
    "Templates: Apesar de você poder montar o seu próprio e ficar copiando ele pra início de cada projeto, ter uma biblioteca que já te comece com uma te poupa dores.\n",
    "E outros recursos e bibliotecas: como um editor para wrangling e um visualizador das transformações\n",
    "Eu sei, a lista é grande e assustadora, mas relaxe, as boas IDEs já vem com a enorme maioria já pré-configurada, você só precisa confirmar que elas estão ativas.\n",
    "Uma vez eu comecei a estudar Unity e demorei umas semanas adivinhando comandos do framework dela até notar que o Intelisense do Visual Studio podiam se integrar com ela… não façam o mesmo… não deixem o stress operacional entrar na frente de soluções definitivas…\n",
    "Existem dois tipos de DSs no mundo. As pessoas que exploraram o ferramental disponível e as que gostam do Jupyter Notebook vanilla. Espero depois disso te ver no primeiro grupo.\n",
    "*Isso não é muito evidente no python, mas em linguagens mais ‘burocráticas’, como C#, é a única coisa protegendo sua sanidade.\n",
    "\n",
    "2) Mentalidade Micrista — Ou doença de Kaggle\n",
    "\n",
    "Se a vida te dá abacates, faça um modelo de ML pra venda vitamina… espera… porque eu estou pegando abacates?\n",
    "Chegue num DS e pergunte como ele pode melhorar um modelo. A maioria vai te responder*:\n",
    "Use mais colunas de dados (vulgo mais recursos disponíveis)\n",
    "Crie mais variáveis (mais minúcia)\n",
    "Troque o modelo (refatoração)\n",
    "O que todas essas respostas tem em comum? Elas trabalham num escopo limitado (a idéia de que é um modelo para um problema declarado)e tentam otimizar dentro dele.\n",
    "Na ciência da Administração a gente tem um tipo de gerente chamado micro-gestor, você já deve ter ouvido falar desse termo pejorativamente, e sim, o estereótipo está certo: É uma pessoa que acompanha processos de perto e realiza otimizações caso-a-caso, mas não tenta mudar a situação dela em si pra não passar mais perrengues.\n",
    "ML tem essa mentalidade em si: Na maioria dos casos é o ato de criar uma máquina que seja capaz de gerenciar atributos de cada item para otimizar uma métrica.\n",
    "Você deve estar se perguntando qual é o problema então… e é simples: A máquina é o micreiro, não você! Você tem que pensar fora do escopo por ela! A ser que esteja numa equipe muito grande, você deveria focar em questões mais empreendedoras como:\n",
    "Garantir que o problema de negócio sendo resolvido é valoroso pro nível de esforço do DS e da máquina, e caso não, explorar outros fronts de aplicação\n",
    "Explicar/vender a sua solução para os outros e ver se ela faz sentido no contexto de decisão - Uma clássica é saber se precisa de mais velocidade ou mais performace preditiva\n",
    "Angariar recursos pro seu modelo na forma de coleta de dados, verba pra nuvem, ou até mesmo pra recrutar um subordinado pra otimizar e corrigir o modelo\n",
    "Saber MVPar e coletar feedback sobre as decisões de negócio e o nível de drift - Não ‘segure’ o modelo por tempo demais, não tem aperfeiçoar os detalhes quando outros grandes problemas estão passando em branco\n",
    "Controlar sinergias e o encaixe de tempo das coisas - Como “isso tem que estar pronto para o Natal” e “Podemos usar nosso minerador NLP nesse caso também”\n",
    "Esses tipos de ação obrigatoriamente requerem soft-skills e experiência de front, mas são exatamente elas que impedem que seu trabalho seja engavetado e esquecido no final. Por isso que DS com conhecimento de negócio é tão valorizado.\n",
    "Infelizmente isso é uma coisa que você não vai pegar fazendo competições de ML**, cursos e projetos individuais***. Estes eventos possuem escopos estritamente fechados e não possuem meios pra alterá-los, induzindo você ao micro.\n",
    "Nesse caso, eu acho que a melhor forma é trabalhar em grupo mesmo (não tenha medo do cliente!), e manter uma cabeça aberta sobre os próprios objetivos.\n",
    "* Esse problema é tão pandêmico que já desenvolvemos estruturas organizacionais pra resolver ele em outras áreas: Olá, Product Owners e equipes de produto pelo mundo! Apesar de funcionarem bem em nível de equipe, infelizmente há o colateral de distanciamento e super especialização no nível individual.\n",
    "** As competições de negócios são viáveis, mas elas funcionam de outra forma das de ML… pra você ter uma ideia, você vai ter que escolher suas próprias fontes de dados\n",
    "*** Esse último até tem potencial, mas você já tem que ter noção de negócios pra começar a ir nessa direção… mas é uma bela maneira de começar acidentalmente uma startup ou uma biblioteca para os outros programadores.\n",
    "\n",
    "3) Não pensar na estratégia de storytelling\n",
    "\n",
    "Quando eu recebo um projeto com storytelling, eu sei que vem uma de duas: Ou vai ser muito bom, ou vai ser miserável. Nunca encontrei um mais moderado.\n",
    "O motivo pra isso é que storytelling é uma habilidade fácil de executar, mas difícil de integrar*. Ela envolve mais percepção do que conhecimento e habilidade; e por causa disso é fácil errar, não notar, e insistir no erro.\n",
    "É como se fosse um revolver, você pode atirar com ele facilmente, e com a mesma facilidade você pode se atirar no pé.\n",
    "Ainda me lembro do triste caso em que alguém apresentou um relatório de umas 20+ páginas pra um teste prático*, a ideia era apresentar uma análise de mortalidade como se fossemos uma seguradora…\n",
    "Primeiras páginas e ele estava relatando a história de X que entrou no portão Y… saltei pro meio do report… e ele ainda estava dramatizando enquanto fazia um wordcloud dos nomes dos passageiros e tinha um desenho dramático do navio afundando… perdi a paciência.\n",
    "\n",
    "Também convenhamos… todo mundo pula as partes chatas pra salvar tempo. Se não, olhe nos fundos dos olhos do meu avatar (ali em cima) e diga que você não pulou a seção de introdução desse próprio artigo e que não vai pular a conclusão. Vídeo: https://www.youtube.com/watch?v=GZPRrYLGrhI e extensão pra pintar os segmentos inúteis é o sponsor block\n",
    "Eu sei que pareço injusto aqui, mas tem três motivos para não:\n",
    "Ele descumpriu o objetivo, o pov era explícito de uma seguradora, e não um documentário — Claramente a abordagem não era pra ser emocional\n",
    "A abordagem dele iria ser menospresada no ambiente de trabalho. Não era esse estilo que convenceria as pessoas do lugar, não havia fit.\n",
    "Eu e ele temos tempo limitado, e ele não valorizou o dele nem o meu.\n",
    "Não tinha muito argumento pra manter ele no processo, independente do esforço.\n",
    "Existem diferentes maneiras de apresentar seu trabalho dependendo do conhecimento, disposição e objetivo do público, e esses estilos são antagônicos, em especial em questões de tempo. TEDs são diferentes de aulas técnicas de pergunta aberta, que são diferentes de resumos de artigos científicos, que são diferentes de livros, que são diferentes de fichas técnicas… que é diferente… disso aqui.\n",
    "Storytelling é que nem escolha de modelo, existem mais de uma estratégia possível, e pelos exemplos de documentário e posts de redes sociais, somos enviesados aos mais narrativos. Mas ser curto e grosso tem suas vantagens, e ter o tato nisso é o segredo. Na dúvida, não adicione mais material.\n",
    "Storytelling de dados é mais sobre como passar a progressão dos achados nos dados, e não necessariamente contar histórias; não fissure em narrativas.\n",
    "* Um óbvio overwork; e que fique de dica para todos: Um trabalho grande demais na realidade está sendo ariscado de não ser lido, da mesma forma que as pessoas tem receio de começar vídeos longos, você está dando bandeira de que não é sucinto.\n",
    "Bem, era isso que eu queria contar. Nenhum algoritmo maneiraço, mas ainda assim importante pra adicionar ao profissional de dados efetivo.\n",
    "'''.upper()"
   ]
  },
  {
   "cell_type": "code",
   "execution_count": 5,
   "metadata": {},
   "outputs": [],
   "source": [
    "# Transforma o texto em uma lista de palavras:\n",
    "lst_pal = [i.strip(string.punctuation) for i in txt.split()]"
   ]
  },
  {
   "cell_type": "code",
   "execution_count": 6,
   "metadata": {},
   "outputs": [
    {
     "data": {
      "text/plain": [
       "1858"
      ]
     },
     "execution_count": 6,
     "metadata": {},
     "output_type": "execute_result"
    }
   ],
   "source": [
    "len(lst_pal)"
   ]
  },
  {
   "cell_type": "code",
   "execution_count": 7,
   "metadata": {},
   "outputs": [],
   "source": [
    "# Conta a quantidade de palavras presentes na lista:\n",
    "for i in lst_pal:\n",
    "    if i in dic_txt: \n",
    "        dic_txt[i] += 1 \n",
    "    else:  \n",
    "        dic_txt[i] = 1"
   ]
  },
  {
   "cell_type": "code",
   "execution_count": 8,
   "metadata": {},
   "outputs": [],
   "source": [
    "# Cria um dataframe pandas com base no dicionário de palavras:\n",
    "df = pd.DataFrame(dic_txt.items(),columns=['palavra','qtd']).sort_values('qtd',ascending=False)"
   ]
  },
  {
   "cell_type": "markdown",
   "metadata": {},
   "source": [
    "#### Descrição do texto escolhido\n",
    "\n",
    "* **título** - Os 3 erros mais comuns de Cientistas de Dados\n",
    "* **site** - Data-Hackers\n",
    "* **fonte** - https://medium.com/data-hackers/os-3-erros-mais-comuns-de-cientistas-de-dados-e-que-nao-tem-haver-com-dados-1fe9b9c8e939\n",
    "* **justificativa** - Neste texto você encontratá três erros mais comuns segundo o autor - Talietta que os Cientistas de Dados cometem mas que não tem haver com dados. É uma matéria disponibilizada na comunidade Data Hackers com dicas que podem ajudar um cientista de dados que está começando no mundo de dados, que vale a pena ler e absorver o conteúdo compartilhado. Eu selecionei esse conteúdo, pois tem relação com o que estamos aprendo nesse momento dentre as matérias da pós, que talvez possa ajudar a mim e a outros iniciantes na área de Data Science.\n"
   ]
  },
  {
   "cell_type": "code",
   "execution_count": 14,
   "metadata": {},
   "outputs": [
    {
     "data": {
      "image/png": "[encoded data removed]",
      "text/plain": [
       "<Figure size 432x288 with 1 Axes>"
      ]
     },
     "metadata": {
      "needs_background": "light"
     },
     "output_type": "display_data"
    },
    {
     "data": {
      "image/png": "[encoded data removed]",
      "text/plain": [
       "<Figure size 432x288 with 1 Axes>"
      ]
     },
     "metadata": {
      "needs_background": "light"
     },
     "output_type": "display_data"
    },
    {
     "data": {
      "text/html": [
       "<style  type=\"text/css\" >\n",
       "</style><table id=\"T_e6726a86_9b25_11ec_ad8d_641c67b15f42\" ><thead>    <tr>        <th class=\"col_heading level0 col0\" >palavra</th>        <th class=\"col_heading level0 col1\" >qtd</th>    </tr></thead><tbody>\n",
       "                <tr>\n",
       "                                <td id=\"T_e6726a86_9b25_11ec_ad8d_641c67b15f42row0_col0\" class=\"data row0 col0\" >DE</td>\n",
       "                        <td id=\"T_e6726a86_9b25_11ec_ad8d_641c67b15f42row0_col1\" class=\"data row0 col1\" >93</td>\n",
       "            </tr>\n",
       "            <tr>\n",
       "                                <td id=\"T_e6726a86_9b25_11ec_ad8d_641c67b15f42row1_col0\" class=\"data row1 col0\" >E</td>\n",
       "                        <td id=\"T_e6726a86_9b25_11ec_ad8d_641c67b15f42row1_col1\" class=\"data row1 col1\" >69</td>\n",
       "            </tr>\n",
       "            <tr>\n",
       "                                <td id=\"T_e6726a86_9b25_11ec_ad8d_641c67b15f42row2_col0\" class=\"data row2 col0\" >QUE</td>\n",
       "                        <td id=\"T_e6726a86_9b25_11ec_ad8d_641c67b15f42row2_col1\" class=\"data row2 col1\" >58</td>\n",
       "            </tr>\n",
       "            <tr>\n",
       "                                <td id=\"T_e6726a86_9b25_11ec_ad8d_641c67b15f42row3_col0\" class=\"data row3 col0\" >NÃO</td>\n",
       "                        <td id=\"T_e6726a86_9b25_11ec_ad8d_641c67b15f42row3_col1\" class=\"data row3 col1\" >41</td>\n",
       "            </tr>\n",
       "            <tr>\n",
       "                                <td id=\"T_e6726a86_9b25_11ec_ad8d_641c67b15f42row4_col0\" class=\"data row4 col0\" >O</td>\n",
       "                        <td id=\"T_e6726a86_9b25_11ec_ad8d_641c67b15f42row4_col1\" class=\"data row4 col1\" >41</td>\n",
       "            </tr>\n",
       "            <tr>\n",
       "                                <td id=\"T_e6726a86_9b25_11ec_ad8d_641c67b15f42row5_col0\" class=\"data row5 col0\" >A</td>\n",
       "                        <td id=\"T_e6726a86_9b25_11ec_ad8d_641c67b15f42row5_col1\" class=\"data row5 col1\" >35</td>\n",
       "            </tr>\n",
       "            <tr>\n",
       "                                <td id=\"T_e6726a86_9b25_11ec_ad8d_641c67b15f42row6_col0\" class=\"data row6 col0\" >É</td>\n",
       "                        <td id=\"T_e6726a86_9b25_11ec_ad8d_641c67b15f42row6_col1\" class=\"data row6 col1\" >33</td>\n",
       "            </tr>\n",
       "            <tr>\n",
       "                                <td id=\"T_e6726a86_9b25_11ec_ad8d_641c67b15f42row7_col0\" class=\"data row7 col0\" >UM</td>\n",
       "                        <td id=\"T_e6726a86_9b25_11ec_ad8d_641c67b15f42row7_col1\" class=\"data row7 col1\" >27</td>\n",
       "            </tr>\n",
       "            <tr>\n",
       "                                <td id=\"T_e6726a86_9b25_11ec_ad8d_641c67b15f42row8_col0\" class=\"data row8 col0\" >PRA</td>\n",
       "                        <td id=\"T_e6726a86_9b25_11ec_ad8d_641c67b15f42row8_col1\" class=\"data row8 col1\" >27</td>\n",
       "            </tr>\n",
       "            <tr>\n",
       "                                <td id=\"T_e6726a86_9b25_11ec_ad8d_641c67b15f42row9_col0\" class=\"data row9 col0\" >MAIS</td>\n",
       "                        <td id=\"T_e6726a86_9b25_11ec_ad8d_641c67b15f42row9_col1\" class=\"data row9 col1\" >24</td>\n",
       "            </tr>\n",
       "            <tr>\n",
       "                                <td id=\"T_e6726a86_9b25_11ec_ad8d_641c67b15f42row10_col0\" class=\"data row10 col0\" >VOCÊ</td>\n",
       "                        <td id=\"T_e6726a86_9b25_11ec_ad8d_641c67b15f42row10_col1\" class=\"data row10 col1\" >23</td>\n",
       "            </tr>\n",
       "            <tr>\n",
       "                                <td id=\"T_e6726a86_9b25_11ec_ad8d_641c67b15f42row11_col0\" class=\"data row11 col0\" >DO</td>\n",
       "                        <td id=\"T_e6726a86_9b25_11ec_ad8d_641c67b15f42row11_col1\" class=\"data row11 col1\" >23</td>\n",
       "            </tr>\n",
       "            <tr>\n",
       "                                <td id=\"T_e6726a86_9b25_11ec_ad8d_641c67b15f42row12_col0\" class=\"data row12 col0\" >UMA</td>\n",
       "                        <td id=\"T_e6726a86_9b25_11ec_ad8d_641c67b15f42row12_col1\" class=\"data row12 col1\" >22</td>\n",
       "            </tr>\n",
       "            <tr>\n",
       "                                <td id=\"T_e6726a86_9b25_11ec_ad8d_641c67b15f42row13_col0\" class=\"data row13 col0\" >EM</td>\n",
       "                        <td id=\"T_e6726a86_9b25_11ec_ad8d_641c67b15f42row13_col1\" class=\"data row13 col1\" >18</td>\n",
       "            </tr>\n",
       "            <tr>\n",
       "                                <td id=\"T_e6726a86_9b25_11ec_ad8d_641c67b15f42row14_col0\" class=\"data row14 col0\" >EU</td>\n",
       "                        <td id=\"T_e6726a86_9b25_11ec_ad8d_641c67b15f42row14_col1\" class=\"data row14 col1\" >18</td>\n",
       "            </tr>\n",
       "            <tr>\n",
       "                                <td id=\"T_e6726a86_9b25_11ec_ad8d_641c67b15f42row15_col0\" class=\"data row15 col0\" >TEM</td>\n",
       "                        <td id=\"T_e6726a86_9b25_11ec_ad8d_641c67b15f42row15_col1\" class=\"data row15 col1\" >15</td>\n",
       "            </tr>\n",
       "            <tr>\n",
       "                                <td id=\"T_e6726a86_9b25_11ec_ad8d_641c67b15f42row16_col0\" class=\"data row16 col0\" >NO</td>\n",
       "                        <td id=\"T_e6726a86_9b25_11ec_ad8d_641c67b15f42row16_col1\" class=\"data row16 col1\" >14</td>\n",
       "            </tr>\n",
       "            <tr>\n",
       "                                <td id=\"T_e6726a86_9b25_11ec_ad8d_641c67b15f42row17_col0\" class=\"data row17 col0\" >MUITO</td>\n",
       "                        <td id=\"T_e6726a86_9b25_11ec_ad8d_641c67b15f42row17_col1\" class=\"data row17 col1\" >14</td>\n",
       "            </tr>\n",
       "            <tr>\n",
       "                                <td id=\"T_e6726a86_9b25_11ec_ad8d_641c67b15f42row18_col0\" class=\"data row18 col0\" >PARA</td>\n",
       "                        <td id=\"T_e6726a86_9b25_11ec_ad8d_641c67b15f42row18_col1\" class=\"data row18 col1\" >14</td>\n",
       "            </tr>\n",
       "            <tr>\n",
       "                                <td id=\"T_e6726a86_9b25_11ec_ad8d_641c67b15f42row19_col0\" class=\"data row19 col0\" >COMO</td>\n",
       "                        <td id=\"T_e6726a86_9b25_11ec_ad8d_641c67b15f42row19_col1\" class=\"data row19 col1\" >13</td>\n",
       "            </tr>\n",
       "            <tr>\n",
       "                                <td id=\"T_e6726a86_9b25_11ec_ad8d_641c67b15f42row20_col0\" class=\"data row20 col0\" >MAS</td>\n",
       "                        <td id=\"T_e6726a86_9b25_11ec_ad8d_641c67b15f42row20_col1\" class=\"data row20 col1\" >13</td>\n",
       "            </tr>\n",
       "            <tr>\n",
       "                                <td id=\"T_e6726a86_9b25_11ec_ad8d_641c67b15f42row21_col0\" class=\"data row21 col0\" >COM</td>\n",
       "                        <td id=\"T_e6726a86_9b25_11ec_ad8d_641c67b15f42row21_col1\" class=\"data row21 col1\" >13</td>\n",
       "            </tr>\n",
       "            <tr>\n",
       "                                <td id=\"T_e6726a86_9b25_11ec_ad8d_641c67b15f42row22_col0\" class=\"data row22 col0\" >AS</td>\n",
       "                        <td id=\"T_e6726a86_9b25_11ec_ad8d_641c67b15f42row22_col1\" class=\"data row22 col1\" >12</td>\n",
       "            </tr>\n",
       "            <tr>\n",
       "                                <td id=\"T_e6726a86_9b25_11ec_ad8d_641c67b15f42row23_col0\" class=\"data row23 col0\" >TER</td>\n",
       "                        <td id=\"T_e6726a86_9b25_11ec_ad8d_641c67b15f42row23_col1\" class=\"data row23 col1\" >12</td>\n",
       "            </tr>\n",
       "            <tr>\n",
       "                                <td id=\"T_e6726a86_9b25_11ec_ad8d_641c67b15f42row24_col0\" class=\"data row24 col0\" >SER</td>\n",
       "                        <td id=\"T_e6726a86_9b25_11ec_ad8d_641c67b15f42row24_col1\" class=\"data row24 col1\" >12</td>\n",
       "            </tr>\n",
       "            <tr>\n",
       "                                <td id=\"T_e6726a86_9b25_11ec_ad8d_641c67b15f42row25_col0\" class=\"data row25 col0\" >SE</td>\n",
       "                        <td id=\"T_e6726a86_9b25_11ec_ad8d_641c67b15f42row25_col1\" class=\"data row25 col1\" >12</td>\n",
       "            </tr>\n",
       "            <tr>\n",
       "                                <td id=\"T_e6726a86_9b25_11ec_ad8d_641c67b15f42row26_col0\" class=\"data row26 col0\" >ELE</td>\n",
       "                        <td id=\"T_e6726a86_9b25_11ec_ad8d_641c67b15f42row26_col1\" class=\"data row26 col1\" >11</td>\n",
       "            </tr>\n",
       "            <tr>\n",
       "                                <td id=\"T_e6726a86_9b25_11ec_ad8d_641c67b15f42row27_col0\" class=\"data row27 col0\" >SEU</td>\n",
       "                        <td id=\"T_e6726a86_9b25_11ec_ad8d_641c67b15f42row27_col1\" class=\"data row27 col1\" >10</td>\n",
       "            </tr>\n",
       "            <tr>\n",
       "                                <td id=\"T_e6726a86_9b25_11ec_ad8d_641c67b15f42row28_col0\" class=\"data row28 col0\" >OU</td>\n",
       "                        <td id=\"T_e6726a86_9b25_11ec_ad8d_641c67b15f42row28_col1\" class=\"data row28 col1\" >10</td>\n",
       "            </tr>\n",
       "            <tr>\n",
       "                                <td id=\"T_e6726a86_9b25_11ec_ad8d_641c67b15f42row29_col0\" class=\"data row29 col0\" >NA</td>\n",
       "                        <td id=\"T_e6726a86_9b25_11ec_ad8d_641c67b15f42row29_col1\" class=\"data row29 col1\" >10</td>\n",
       "            </tr>\n",
       "            <tr>\n",
       "                                <td id=\"T_e6726a86_9b25_11ec_ad8d_641c67b15f42row30_col0\" class=\"data row30 col0\" >DADOS</td>\n",
       "                        <td id=\"T_e6726a86_9b25_11ec_ad8d_641c67b15f42row30_col1\" class=\"data row30 col1\" >10</td>\n",
       "            </tr>\n",
       "            <tr>\n",
       "                                <td id=\"T_e6726a86_9b25_11ec_ad8d_641c67b15f42row31_col0\" class=\"data row31 col0\" >TE</td>\n",
       "                        <td id=\"T_e6726a86_9b25_11ec_ad8d_641c67b15f42row31_col1\" class=\"data row31 col1\" >10</td>\n",
       "            </tr>\n",
       "    </tbody></table>"
      ],
      "text/plain": [
       "<pandas.io.formats.style.Styler at 0x5d5a028>"
      ]
     },
     "execution_count": 14,
     "metadata": {},
     "output_type": "execute_result"
    }
   ],
   "source": [
    "# Plota o dataframe no formato de gráfico utilizando matplotlib:\n",
    "df.plot(kind='line', x='palavra', y='qtd')\n",
    "plt.title('Quantidade de Palavras Geral')\n",
    "plt.gca().axes.xaxis.set_visible(False)\n",
    "\n",
    "df[df.qtd >= 10].plot(kind='bar', x='palavra', y='qtd')\n",
    "plt.title('Quantidade de Palavras >= 10')\n",
    "plt.show()\n",
    "\n",
    "df[df.qtd >= 10].style.hide_index()"
   ]
  },
  {
   "cell_type": "code",
   "execution_count": null,
   "metadata": {},
   "outputs": [],
   "source": []
  },
  {
   "cell_type": "code",
   "execution_count": null,
   "metadata": {},
   "outputs": [],
   "source": []
  }
 ],
 "metadata": {
  "kernelspec": {
   "display_name": "Python 3",
   "language": "python",
   "name": "python3"
  },
  "language_info": {
   "codemirror_mode": {
    "name": "ipython",
    "version": 3
   },
   "file_extension": ".py",
   "mimetype": "text/x-python",
   "name": "python",
   "nbconvert_exporter": "python",
   "pygments_lexer": "ipython3",
   "version": "3.8.5"
  }
 },
 "nbformat": 4,
 "nbformat_minor": 4
}
