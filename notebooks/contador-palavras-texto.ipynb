{
 "cells": [
  {
   "cell_type": "markdown",
   "metadata": {},
   "source": [
    "**Contador de Palavras em um Texto**\n"
   ]
  },
  {
   "cell_type": "markdown",
   "metadata": {},
   "source": [
    "* **origem**: https://olhardigital.com.br/2022/02/20/ciencia-e-espaco/spacex-lancara-49-satelites-starlink-nesta-segunda-feira-21/\n",
    "* **assunto**: SpaceX Lançará 49 satélites Starlink nesta segunda-feira(21)"
   ]
  },
  {
   "cell_type": "code",
   "execution_count": 43,
   "metadata": {},
   "outputs": [],
   "source": [
    "import string\n",
    "import pandas as pd\n",
    "import matplotlib.pyplot as plt\n",
    "\n",
    "dic_txt = {}"
   ]
  },
  {
   "cell_type": "code",
   "execution_count": 63,
   "metadata": {},
   "outputs": [],
   "source": [
    "txt = '''\n",
    "Conheça o Essencialismo, técnica de produtividade que ajuda a tomar decisões e otimizar o tempo\n",
    "\n",
    "ESSENCIALISMO\n",
    "\n",
    "O que acham que é:\n",
    "Uma prática espiritual.\n",
    "\n",
    "O que realmente é:\n",
    "Essencialismo é um método sistemático para entender quais tarefas (pessoais ou profissionais) precisam, de fato, ser feitas e quais podem ser eliminadas, tornando a execução mais produtiva, objetiva e leve. De acordo com Mônica Moreira, coach profissional e especialista em Essencialismo, o método ajuda na organização e identificação mental, física e comportamental de tudo o que possa estar roubando o tempo e a energia de uma pessoa. “Não se trata apenas de identificar e cumprir ações mas, a partir do autoconhecimento, aprender a validar ‘bom’ versus ‘essencial’.”\n",
    "\n",
    "O contexto no qual o Essencialismo trabalha é o atual: excesso de informação, opiniões, ofertas, escolhas, caminhos, tarefas. A ideia não é classificar esses pontos como bons ou ruins, mas fazer escolhas baseadas no entendimento de que não é possível fazer tudo, muito menos bem feito. Dessa forma, o Essencialismo visa eliminar não somente atividades mas também angústias.\n",
    "\n",
    "Leia também: Como planejar o dia para ser mais produtivo\n",
    "Master coach, especialista em Essencialismo e fundador e diretor do Instituto Aware, João Gabriel Mattos diz que uma das práticas de aplicação do Essencialismo é a elaboração de uma lista de atividades da semana, com três categorias: urgentes, essenciais e resto. “A partir daí fazemos a seguinte reflexão: urgentes são atividades essenciais que não foram executadas em seu devido tempo e agora precisam ser prioritárias. As atividades essenciais são aquelas que contribuem para que eu alcance meu objetivo, o que não posso ficar sem neste período. Resto é aquilo que não se encaixa em nenhuma das duas outras categorias.”\n",
    "\n",
    "Em uma entrevista em 2015, publicada na página da Endeavor, o criador do método Greg McKeown disse que para chegar ao entendimento do que é essencial é preciso revisar toda a vida, desde o início. “Pensar com uma perspectiva longa, tanto na direção do passado quanto do futuro é o segredo para perceber o que é essencial. Esse distanciamento do olhar é o que está por trás do pensamento do essencialista. Quem não tem essa mentalidade está apenas reagindo ao próximo e-mail que recebe, respondendo à agenda das outras pessoas”, diz.\n",
    "\n",
    "Quem inventou:\n",
    "O consultor de negócios e escritor inglês Greg McKeown, no livro Essentialism: The Disciplined Pursuit of Less, também publicado no Brasil como Essencialismo: A Disciplinada Busca por Menos. O livro fez com que o inglês entrasse para a lista de autores mais lidos do New York Times em 2015. Alguns anos antes, McKeown foi eleito um dos Young Global Leaders pelo Fórum Econômico Mundial.\n",
    "\n",
    "Quando foi inventado:\n",
    "Em 2014, ano do lançamento do livro em inglês. A lista do NYT é de 2015 e o Fórum Econômico Mundial é de 2012.\n",
    "\n",
    "Para que serve:\n",
    "Aumento da produtividade e alívio do estresse em relação ao excesso de tarefas. Segundo Mattos, o essencialista, ou seja, quem aplica o Essencialismo na própria vida, irá ter resultados mais alinhados com seus objetivos, além de sentir que tem controle sobre o que faz. “Isso porque o método potencializa a competência de fazer escolhas”, afirma.\n",
    "\n",
    "Moreira diz que a aplicação do método gera um novo diálogo interno que tira as pessoas do nível da indecisão de maneira mais consistente: “A consequência é um empoderamento diante de suas escolhas e a possibilidade de viver momentos de ócio sem culpas ou cobranças”.\n",
    "\n",
    "Quem usa:\n",
    "O método pode ser utilizado por qualquer pessoa, tanto na vida pessoal como profissional. Moreira diz que o Essencialismo se aplica a pessoas com dificuldades de fazer escolhas, que não sabem dizer “não”, com baixa autonomia, com um nível de autocobrança elevado ou que não tenham clareza sobre seu propósito. “Aplica-se também às organizações que desejam melhorar o engajamento de pessoas”, diz.\n",
    "\n",
    "Efeitos colaterais:\n",
    "Não há.\n",
    "\n",
    "Quem é contra:\n",
    "Não há.\n",
    "\n",
    "\n",
    "'''.upper()"
   ]
  },
  {
   "cell_type": "code",
   "execution_count": 64,
   "metadata": {},
   "outputs": [],
   "source": [
    "# Transforma o texto em uma lista de palavras:\n",
    "lst_pal = [i.strip(string.punctuation) for i in txt.split()]"
   ]
  },
  {
   "cell_type": "code",
   "execution_count": 66,
   "metadata": {},
   "outputs": [
    {
     "data": {
      "text/plain": [
       "642"
      ]
     },
     "execution_count": 66,
     "metadata": {},
     "output_type": "execute_result"
    }
   ],
   "source": [
    "len(lst_pal)"
   ]
  },
  {
   "cell_type": "code",
   "execution_count": 67,
   "metadata": {},
   "outputs": [],
   "source": [
    "# Conta a quantidade de palavras presentes na lista:\n",
    "for i in lst_pal:\n",
    "    if i in dic_txt: \n",
    "        dic_txt[i] += 1 \n",
    "    else:  \n",
    "        dic_txt[i] = 1"
   ]
  },
  {
   "cell_type": "code",
   "execution_count": 68,
   "metadata": {},
   "outputs": [],
   "source": [
    "# Cria um dataframe pandas com base no dicionário de palavras:\n",
    "df = pd.DataFrame(dic_txt.items(),columns=['palavra','qtd']).sort_values('qtd',ascending=False)"
   ]
  },
  {
   "cell_type": "code",
   "execution_count": 70,
   "metadata": {},
   "outputs": [
    {
     "data": {
      "text/plain": [
       "Text(0,0.5,'Quantidade')"
      ]
     },
     "execution_count": 70,
     "metadata": {},
     "output_type": "execute_result"
    },
    {
     "data": {
      "image/png": "[encoded data removed]",
      "text/plain": [
       "<Figure size 432x288 with 1 Axes>"
      ]
     },
     "metadata": {
      "needs_background": "light"
     },
     "output_type": "display_data"
    }
   ],
   "source": [
    "# Plota o dataframe no formato de gráfico utilizando matplotlib:\n",
    "df[df.qtd >= 5].plot(kind='line', x='palavra', y='qtd')\n",
    "\n",
    "plt.title('Quantidade de Palavras >= 5')\n",
    "plt.xlabel('Palavras')\n",
    "plt.ylabel('Quantidade')"
   ]
  },
  {
   "cell_type": "code",
   "execution_count": null,
   "metadata": {},
   "outputs": [],
   "source": []
  }
 ],
 "metadata": {
  "kernelspec": {
   "display_name": "Python 3",
   "language": "python",
   "name": "python3"
  },
  "language_info": {
   "codemirror_mode": {
    "name": "ipython",
    "version": 3
   },
   "file_extension": ".py",
   "mimetype": "text/x-python",
   "name": "python",
   "nbconvert_exporter": "python",
   "pygments_lexer": "ipython3",
   "version": "3.7.0"
  }
 },
 "nbformat": 4,
 "nbformat_minor": 4
}
